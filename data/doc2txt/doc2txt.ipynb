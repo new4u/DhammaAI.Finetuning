{
 "cells": [
  {
   "cell_type": "code",
   "execution_count": null,
   "metadata": {},
   "outputs": [],
   "source": [
    "import os\n",
    "import subprocess\n",
    "import docx\n",
    "\n",
    "cwd = os.getcwd()\n",
    "print(cwd)\n",
    "\n",
    "# 要合并的文件夹路径\n",
    "folder_path = '/com.docker.devenvironments.code/data/Doc2text/data/泰国隆波帕默尊者文字整理/'\n",
    "\n",
    "# 列出文件夹下所有的文件\n",
    "files = os.listdir(folder_path)\n",
    "# 遍历每个文件\n",
    "for file in files:\n",
    "    # 如果是要合并的文件，打开并写入到合并文件中\n",
    "    if file.endswith('.docx'):\n",
    "        doc = docx.Document(os.path.join(folder_path, file))\n",
    "        for i, para in enumerate(doc.paragraphs):\n",
    "            with open(os.path.join(folder_path, f'{file.split(\".\")[0]}_{i}.txt'), 'w', encoding='utf-8') as f:\n",
    "                f.write(para.text)\n",
    "        doc.save(os.path.join(folder_path, file))\n",
    "        # doc.close()\n",
    "    elif file.endswith('.doc'):\n",
    "        process = subprocess.Popen(['antiword', os.path.join(folder_path, file)], stdout=subprocess.PIPE)\n",
    "        output, err = process.communicate()\n",
    "        with open(os.path.join(folder_path, f'{file.split(\".\")[0]}.txt'), 'w', encoding='utf-8') as f:\n",
    "            f.write(output.decode('utf-8'))\n"
   ]
  }
 ],
 "metadata": {
  "language_info": {
   "name": "python"
  },
  "orig_nbformat": 4
 },
 "nbformat": 4,
 "nbformat_minor": 2
}
